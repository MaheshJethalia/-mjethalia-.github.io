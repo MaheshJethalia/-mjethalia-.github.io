{
  "nbformat": 4,
  "nbformat_minor": 0,
  "metadata": {
    "colab": {
      "name": "Copy of Breezy Question.ipynb",
      "provenance": [],
      "collapsed_sections": [],
      "include_colab_link": true
    },
    "kernelspec": {
      "name": "python3",
      "display_name": "Python 3"
    },
    "language_info": {
      "name": "python"
    }
  },
  "cells": [
    {
      "cell_type": "markdown",
      "metadata": {
        "id": "view-in-github",
        "colab_type": "text"
      },
      "source": [
        "<a href=\"https://colab.research.google.com/github/MaheshJethalia/-mjethalia-.github.io/blob/gh-pages/Copy_of_Breezy_Question.ipynb\" target=\"_parent\"><img src=\"https://colab.research.google.com/assets/colab-badge.svg\" alt=\"Open In Colab\"/></a>"
      ]
    },
    {
      "cell_type": "code",
      "metadata": {
        "colab": {
          "base_uri": "https://localhost:8080/"
        },
        "cellView": "form",
        "id": "emZRNhpOdgY6",
        "outputId": "79ef526f-3e86-484e-ec4f-a5a009e34a23"
      },
      "source": [
        "#@title Run this cell to generate the data\n",
        "! pip install faker\n",
        "import numpy as np\n",
        "import pandas as pd\n",
        "import uuid\n",
        "import datetime\n",
        "\n",
        "from faker.providers.person.en import Provider\n",
        "from faker import Faker\n",
        "\n",
        "from faker import Faker\n",
        "fake = Faker()\n",
        "Faker.seed(0)\n",
        "\n",
        "n_employees = 50\n",
        "first_names = pd.Series(list(set(Provider.first_names))).sample(n_employees)\n",
        "df_employees = pd.DataFrame(columns=[\"id\", \"name\", \"salary\"])\n",
        "df_employees[\"name\"] = (first_names).sample(frac=1).values\n",
        "mu = 28_000\n",
        "minimum = 16_000\n",
        "df_employees[\"salary\"] = (np.random.pareto(a=6, size=(50,1)) * mu) + minimum\n",
        "df_employees[\"salary\"] = (df_employees[\"salary\"]/100).astype(int) * 100\n",
        "df_employees[\"id\"] = pd.Series([str(uuid.uuid4()).split('-')[1] for x in range(n_employees)])\n",
        "\n",
        "def create_random_project(number_of_employees, duration, year, is_ongoing=False):\n",
        "    df_projects = pd.DataFrame(index=range(number_of_employees), columns=[\"employee_id\", \"project_id\", \"start_date\", \"end_date\"])\n",
        "    \n",
        "    employees = df_employees.id.sample(number_of_employees)\n",
        "    \n",
        "    start_date = datetime.date(year=year, month=1, day=1)\n",
        "    end_date = datetime.date(year=year+1, month=1, day=1)\n",
        "    project_start_date = fake.date_between(start_date=start_date, end_date=end_date)\n",
        "    project_end_date = project_start_date + datetime.timedelta(days=duration)\n",
        "    \n",
        "    if is_ongoing:\n",
        "        project_end_date = None\n",
        "        \n",
        "    project_id = str(uuid.uuid4()).split('-')[4]\n",
        "    \n",
        "    df_projects[\"employee_id\"] = employees.values\n",
        "    df_projects[\"project_id\"] = project_id\n",
        "    df_projects[\"start_date\"] = project_start_date\n",
        "    df_projects[\"end_date\"] = project_end_date\n",
        "    \n",
        "    \n",
        "    return df_projects\n",
        "\n",
        "n_projects = 150\n",
        "projects = []\n",
        "for proj in range(n_projects):\n",
        "    number_of_employees = np.random.choice([1,2,3,4], replace=True, p=[0.25, 0.5, 0.15, 0.1], size=1)\n",
        "    duration = (np.random.pareto(a=5, size=1) * 30*4) + 14\n",
        "    year = np.random.choice([2017, 2018, 2019, 2020])\n",
        "    is_ongoing = bool(np.random.binomial(n=1, p=0.4)) if year >= 2019 else False\n",
        "    new_project = (create_random_project(number_of_employees=number_of_employees[0], duration=duration[0], year=year, is_ongoing=is_ongoing).values)\n",
        "    \n",
        "    projects.append(new_project)\n",
        "    \n",
        "projects_data = np.vstack(projects)\n",
        "df_projects = (\n",
        "    pd.DataFrame(projects_data, columns=[\"employee_id\", \"project_id\", \"start_date\", \"end_date\"])\n",
        "    .sort_values([\"project_id\", \"start_date\", \"end_date\"])\n",
        "    .reset_index(drop=True)\n",
        ")"
      ],
      "execution_count": 1,
      "outputs": [
        {
          "output_type": "stream",
          "name": "stdout",
          "text": [
            "Looking in indexes: https://pypi.org/simple, https://us-python.pkg.dev/colab-wheels/public/simple/\n",
            "Collecting faker\n",
            "  Downloading Faker-13.15.0-py3-none-any.whl (1.6 MB)\n",
            "\u001b[K     |████████████████████████████████| 1.6 MB 13.6 MB/s \n",
            "\u001b[?25hRequirement already satisfied: python-dateutil>=2.4 in /usr/local/lib/python3.7/dist-packages (from faker) (2.8.2)\n",
            "Requirement already satisfied: typing-extensions>=3.10.0.2 in /usr/local/lib/python3.7/dist-packages (from faker) (4.1.1)\n",
            "Requirement already satisfied: six>=1.5 in /usr/local/lib/python3.7/dist-packages (from python-dateutil>=2.4->faker) (1.15.0)\n",
            "Installing collected packages: faker\n",
            "Successfully installed faker-13.15.0\n"
          ]
        }
      ]
    },
    {
      "cell_type": "code",
      "metadata": {
        "colab": {
          "base_uri": "https://localhost:8080/",
          "height": 205
        },
        "id": "UcWIkC4eiuET",
        "outputId": "b29568f1-0e7b-4355-c8e9-885e99e29292"
      },
      "source": [
        "df_employees.head(5)"
      ],
      "execution_count": null,
      "outputs": [
        {
          "output_type": "execute_result",
          "data": {
            "text/html": [
              "<div>\n",
              "<style scoped>\n",
              "    .dataframe tbody tr th:only-of-type {\n",
              "        vertical-align: middle;\n",
              "    }\n",
              "\n",
              "    .dataframe tbody tr th {\n",
              "        vertical-align: top;\n",
              "    }\n",
              "\n",
              "    .dataframe thead th {\n",
              "        text-align: right;\n",
              "    }\n",
              "</style>\n",
              "<table border=\"1\" class=\"dataframe\">\n",
              "  <thead>\n",
              "    <tr style=\"text-align: right;\">\n",
              "      <th></th>\n",
              "      <th>id</th>\n",
              "      <th>name</th>\n",
              "      <th>salary</th>\n",
              "    </tr>\n",
              "  </thead>\n",
              "  <tbody>\n",
              "    <tr>\n",
              "      <th>0</th>\n",
              "      <td>e9c8</td>\n",
              "      <td>Carmelo</td>\n",
              "      <td>28100</td>\n",
              "    </tr>\n",
              "    <tr>\n",
              "      <th>1</th>\n",
              "      <td>8743</td>\n",
              "      <td>Hortense</td>\n",
              "      <td>25500</td>\n",
              "    </tr>\n",
              "    <tr>\n",
              "      <th>2</th>\n",
              "      <td>b8f6</td>\n",
              "      <td>Villa</td>\n",
              "      <td>22100</td>\n",
              "    </tr>\n",
              "    <tr>\n",
              "      <th>3</th>\n",
              "      <td>9a6f</td>\n",
              "      <td>Chalmers</td>\n",
              "      <td>22900</td>\n",
              "    </tr>\n",
              "    <tr>\n",
              "      <th>4</th>\n",
              "      <td>d55a</td>\n",
              "      <td>Danna</td>\n",
              "      <td>22100</td>\n",
              "    </tr>\n",
              "  </tbody>\n",
              "</table>\n",
              "</div>"
            ],
            "text/plain": [
              "     id      name  salary\n",
              "0  e9c8   Carmelo   28100\n",
              "1  8743  Hortense   25500\n",
              "2  b8f6     Villa   22100\n",
              "3  9a6f  Chalmers   22900\n",
              "4  d55a     Danna   22100"
            ]
          },
          "metadata": {},
          "execution_count": 70
        }
      ]
    },
    {
      "cell_type": "code",
      "metadata": {
        "colab": {
          "base_uri": "https://localhost:8080/",
          "height": 205
        },
        "id": "--zUPsh6hScZ",
        "outputId": "ca238b95-88d0-4770-a708-38487778b945"
      },
      "source": [
        "df_projects.head(5)"
      ],
      "execution_count": null,
      "outputs": [
        {
          "output_type": "execute_result",
          "data": {
            "text/html": [
              "<div>\n",
              "<style scoped>\n",
              "    .dataframe tbody tr th:only-of-type {\n",
              "        vertical-align: middle;\n",
              "    }\n",
              "\n",
              "    .dataframe tbody tr th {\n",
              "        vertical-align: top;\n",
              "    }\n",
              "\n",
              "    .dataframe thead th {\n",
              "        text-align: right;\n",
              "    }\n",
              "</style>\n",
              "<table border=\"1\" class=\"dataframe\">\n",
              "  <thead>\n",
              "    <tr style=\"text-align: right;\">\n",
              "      <th></th>\n",
              "      <th>employee_id</th>\n",
              "      <th>project_id</th>\n",
              "      <th>start_date</th>\n",
              "      <th>end_date</th>\n",
              "    </tr>\n",
              "  </thead>\n",
              "  <tbody>\n",
              "    <tr>\n",
              "      <th>0</th>\n",
              "      <td>71fd</td>\n",
              "      <td>03d998e522eb</td>\n",
              "      <td>2019-11-24</td>\n",
              "      <td>None</td>\n",
              "    </tr>\n",
              "    <tr>\n",
              "      <th>1</th>\n",
              "      <td>42f8</td>\n",
              "      <td>03d998e522eb</td>\n",
              "      <td>2019-11-24</td>\n",
              "      <td>None</td>\n",
              "    </tr>\n",
              "    <tr>\n",
              "      <th>2</th>\n",
              "      <td>e9c8</td>\n",
              "      <td>06c4b8323ec3</td>\n",
              "      <td>2020-07-29</td>\n",
              "      <td>None</td>\n",
              "    </tr>\n",
              "    <tr>\n",
              "      <th>3</th>\n",
              "      <td>627e</td>\n",
              "      <td>06c4b8323ec3</td>\n",
              "      <td>2020-07-29</td>\n",
              "      <td>None</td>\n",
              "    </tr>\n",
              "    <tr>\n",
              "      <th>4</th>\n",
              "      <td>627e</td>\n",
              "      <td>094042aec8be</td>\n",
              "      <td>2018-12-19</td>\n",
              "      <td>2019-02-04</td>\n",
              "    </tr>\n",
              "  </tbody>\n",
              "</table>\n",
              "</div>"
            ],
            "text/plain": [
              "  employee_id    project_id  start_date    end_date\n",
              "0        71fd  03d998e522eb  2019-11-24        None\n",
              "1        42f8  03d998e522eb  2019-11-24        None\n",
              "2        e9c8  06c4b8323ec3  2020-07-29        None\n",
              "3        627e  06c4b8323ec3  2020-07-29        None\n",
              "4        627e  094042aec8be  2018-12-19  2019-02-04"
            ]
          },
          "metadata": {},
          "execution_count": 71
        }
      ]
    },
    {
      "cell_type": "markdown",
      "metadata": {
        "id": "izTd856xpLYF"
      },
      "source": [
        "## Find the 3 lowest paid employees who have done at least 10 projects. \n",
        "\n",
        "## Write your solution here, and copy it back to the form\n",
        "\n",
        "---\n",
        "\n"
      ]
    },
    {
      "cell_type": "code",
      "metadata": {
        "id": "3kiQ716UpJX6",
        "outputId": "cbb9df37-2b36-4e4f-cb10-ec18ba16215d",
        "colab": {
          "base_uri": "https://localhost:8080/"
        }
      },
      "source": [
        "import pandas as pd\n",
        "df_mer = pd.merge(df_employees, df_projects, left_on= 'id', right_on= 'employee_id')\n",
        "vn = df_mer['name'].value_counts()\n",
        "vn.head(5)\n",
        "vn = df_mer['name'].value_counts()\n",
        "a=vn[vn > 9].index.tolist()\n",
        "b=df_mer[df_mer['name'].isin(a)].drop_duplicates(subset='name',keep='first')\n",
        "c=b.nsmallest(3, 'salary')\n",
        "three_lowest_paid_employees=c.name\n",
        "print(three_lowest_paid_employees)"
      ],
      "execution_count": 6,
      "outputs": [
        {
          "output_type": "stream",
          "name": "stdout",
          "text": [
            "132    Paralee\n",
            "16       Buren\n",
            "143     Denton\n",
            "Name: name, dtype: object\n"
          ]
        }
      ]
    }
  ]
}